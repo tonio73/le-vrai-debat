{
 "cells": [
  {
   "cell_type": "markdown",
   "metadata": {},
   "source": [
    "# Original static topics"
   ]
  },
  {
   "cell_type": "code",
   "execution_count": 149,
   "metadata": {},
   "outputs": [],
   "source": [
    "import pandas as pd\n",
    "from pathlib import Path\n",
    "import matplotlib.pyplot as plt\n",
    "import re, json, numpy as np\n",
    "\n",
    "import nltk\n",
    "from gensim import models, corpora\n",
    "import fasttext\n",
    "import gc"
   ]
  },
  {
   "cell_type": "markdown",
   "metadata": {},
   "source": [
    "## Load preprocessed data\n",
    "\n",
    "Data is already gathered in a single parquet files with selected columns about opinions (proposals):\n",
    "- title and descriptions\n",
    "- votes (number, positive, mitigate, negative)\n",
    "- arguments (pros, cons)"
   ]
  },
  {
   "cell_type": "code",
   "execution_count": 2,
   "metadata": {},
   "outputs": [
    {
     "name": "stderr",
     "output_type": "stream",
     "text": [
      "/Users/antoinehue/Library/miniconda3/lib/python3.7/site-packages/fastparquet/encoding.py:222: NumbaDeprecationWarning: The 'numba.jitclass' decorator has moved to 'numba.experimental.jitclass' to better reflect the experimental nature of the functionality. Please update your imports to accommodate this change and see http://numba.pydata.org/numba-doc/latest/reference/deprecation.html#change-of-jitclass-location for the time frame.\n",
      "  Numpy8 = numba.jitclass(spec8)(NumpyIO)\n",
      "/Users/antoinehue/Library/miniconda3/lib/python3.7/site-packages/fastparquet/encoding.py:224: NumbaDeprecationWarning: The 'numba.jitclass' decorator has moved to 'numba.experimental.jitclass' to better reflect the experimental nature of the functionality. Please update your imports to accommodate this change and see http://numba.pydata.org/numba-doc/latest/reference/deprecation.html#change-of-jitclass-location for the time frame.\n",
      "  Numpy32 = numba.jitclass(spec32)(NumpyIO)\n"
     ]
    }
   ],
   "source": [
    "df = pd.read_parquet('leVraiDebat-opinions.parquet')"
   ]
  },
  {
   "cell_type": "code",
   "execution_count": 3,
   "metadata": {},
   "outputs": [
    {
     "data": {
      "text/plain": [
       "Index(['master_tag', 'contributions_id', 'contribution_versions_title',\n",
       "       'contribution_versions_bodyText', 'contributions_votesCount',\n",
       "       'contributions_votesCountOk', 'contributions_votesCountMitige',\n",
       "       'contributions_votesCountNok', 'contributions_argumentsCountFor',\n",
       "       'contributions_argumentsCountAgainst'],\n",
       "      dtype='object')"
      ]
     },
     "execution_count": 3,
     "metadata": {},
     "output_type": "execute_result"
    }
   ],
   "source": [
    "df.columns"
   ]
  },
  {
   "cell_type": "markdown",
   "metadata": {},
   "source": [
    "# Selection of opinions\n",
    "\n",
    "For each topic save the 20 best proposals"
   ]
  },
  {
   "cell_type": "code",
   "execution_count": 4,
   "metadata": {},
   "outputs": [],
   "source": [
    "#df.set_index('contributions_id', inplace=True)"
   ]
  },
  {
   "cell_type": "code",
   "execution_count": 5,
   "metadata": {},
   "outputs": [
    {
     "data": {
      "text/plain": [
       "array(['democratie-institutions-referendum-dinitiative-citoyenne',\n",
       "       'economie-finances-travail-compte-public',\n",
       "       'education-jeunesse-enseignement-superieur-recherche-et-innovation',\n",
       "       'europe-affaires-etrangeres-outre-mer', 'justice-police-armee',\n",
       "       'sante-solidarite-handicap', 'sport-culture', 'expression-libre',\n",
       "       'transition-ecologique-solidaire-agriculture-alimentation'],\n",
       "      dtype=object)"
      ]
     },
     "execution_count": 5,
     "metadata": {},
     "output_type": "execute_result"
    }
   ],
   "source": [
    "topics = df.master_tag.unique()\n",
    "topics"
   ]
  },
  {
   "cell_type": "code",
   "execution_count": 6,
   "metadata": {},
   "outputs": [],
   "source": [
    "saved_cols = ['contributions_id', 'contribution_versions_title',\n",
    "       'contribution_versions_bodyText', 'contributions_votesCount',\n",
    "       'contributions_votesCountOk', 'contributions_votesCountMitige',\n",
    "       'contributions_votesCountNok', 'contributions_argumentsCountFor',\n",
    "       'contributions_argumentsCountAgainst']\n",
    "for i, topic in enumerate(topics):\n",
    "    main_contributions = df[df.master_tag == topic].sort_values('contributions_votesCountOk', ascending=False)[:20]\n",
    "    main_contributions[saved_cols].to_json('topic_%d_main_contributions.json' % i, orient='records')"
   ]
  },
  {
   "cell_type": "code",
   "execution_count": 7,
   "metadata": {},
   "outputs": [],
   "source": [
    "# Without topic filter => root\n",
    "main_contributions = df.sort_values('contributions_votesCountOk', ascending=False)[:20]\n",
    "main_contributions[saved_cols].to_json('topic_root_main_contributions.json', orient='records')"
   ]
  },
  {
   "cell_type": "markdown",
   "metadata": {},
   "source": [
    "## TF-IDF on each topic\n",
    "\n",
    "TF-IDF in order to get the top N words and from them the 8 keywords (Step2)"
   ]
  },
  {
   "cell_type": "code",
   "execution_count": 20,
   "metadata": {},
   "outputs": [
    {
     "data": {
      "text/plain": [
       "(4063, 10)"
      ]
     },
     "execution_count": 20,
     "metadata": {},
     "output_type": "execute_result"
    }
   ],
   "source": [
    "#topic = topics[0]\n",
    "#df_sel = df[df.master_tag == topic]\n",
    "#df_sel.shape"
   ]
  },
  {
   "cell_type": "markdown",
   "metadata": {},
   "source": [
    "### Cleanup, stemming and tokenization"
   ]
  },
  {
   "cell_type": "code",
   "execution_count": 8,
   "metadata": {},
   "outputs": [],
   "source": [
    "stop_words = set(nltk.corpus.stopwords.words('french'))\n",
    "stemmer = nltk.stem.snowball.FrenchStemmer()"
   ]
  },
  {
   "cell_type": "code",
   "execution_count": 55,
   "metadata": {},
   "outputs": [],
   "source": [
    "def tokenize_clean_one(text, stem_map):\n",
    "    text = re.sub(r\"[,;\\.\\?!:…\\-'\\\"/\\(\\)]+\", ' ', text).lower()\n",
    "    tokens = nltk.word_tokenize(text)\n",
    "    # Remove stop words\n",
    "    tokens = filter(lambda w: w not in stop_words, tokens)\n",
    "    # Filter short tokens (length < 3)\n",
    "    tokens = filter(lambda w: len(w) > 2, tokens)\n",
    "    final_tok = []\n",
    "    for tok in tokens:\n",
    "        stem = stemmer.stem(tok)\n",
    "        # Keep the shortest word corresponding to the stem\n",
    "        if stem in stem_map:\n",
    "            if len(tok) < len(stem_map[stem]):\n",
    "                stem_map[stem] = tok\n",
    "        else:\n",
    "            stem_map.update({stem: tok})\n",
    "        final_tok.append(stem)\n",
    "    return final_tok"
   ]
  },
  {
   "cell_type": "code",
   "execution_count": 57,
   "metadata": {},
   "outputs": [
    {
     "data": {
      "text/plain": [
       "(4063,)"
      ]
     },
     "execution_count": 57,
     "metadata": {},
     "output_type": "execute_result"
    }
   ],
   "source": [
    "def tokenize_corpus(corpus):\n",
    "    stem_map = {}\n",
    "    tokens = corpus.apply(tokenize_clean, args=[stem_map])\n",
    "    return tokens, stem_map\n",
    "#tokens, stem_map = tokenize_corpus(df_sel['contribution_versions_bodyText'])\n",
    "#tokens.shape"
   ]
  },
  {
   "cell_type": "markdown",
   "metadata": {},
   "source": [
    "### Bag of words\n",
    "\n",
    "To be submitted to the TF-IDF model"
   ]
  },
  {
   "cell_type": "code",
   "execution_count": 54,
   "metadata": {},
   "outputs": [
    {
     "name": "stdout",
     "output_type": "stream",
     "text": [
      "Voc length: 3316\n"
     ]
    }
   ],
   "source": [
    "def get_bag_of_words(tokens):\n",
    "    dictionary = corpora.Dictionary(tokens)\n",
    "    #print(\"Voc length before filtering extremes:\", len(dictionary))\n",
    "    dictionary.filter_extremes(no_below=5, no_above=0.5)\n",
    "    corpus = tokens.apply(dictionary.doc2bow)\n",
    "    return dictionary, corpus\n",
    "#dictionary, corpus_bow = get_bag_of_words(tokens)\n",
    "#print(\"Voc length:\", len(dictionary))"
   ]
  },
  {
   "cell_type": "markdown",
   "metadata": {},
   "source": [
    "### TF-IDF"
   ]
  },
  {
   "cell_type": "code",
   "execution_count": 61,
   "metadata": {},
   "outputs": [],
   "source": [
    "def get_tfidf_model(corpus):\n",
    "    tokens, stem_map = tokenize_corpus(corpus)\n",
    "    dictionary, corpus_bow = get_bag_of_words(tokens)\n",
    "    tfidf = models.TfidfModel(list(corpus_bow))\n",
    "    return tfidf, dictionary, stem_map\n",
    "#tfidf, dico, stem_map = get_tfidf_model(df_sel['contribution_versions_bodyText'])"
   ]
  },
  {
   "cell_type": "code",
   "execution_count": 60,
   "metadata": {},
   "outputs": [],
   "source": [
    "#corpus_tfidf = tfidf[corpus]\n",
    "#len(corpus_tfidf)\n",
    "#tfidf_corpus_iter = corpus_tfidf.__iter__()\n",
    "#next(tfidf_corpus_iter)[:10]\n",
    "#next(tfidf_corpus_iter)[:10]"
   ]
  },
  {
   "cell_type": "markdown",
   "metadata": {},
   "source": [
    "## Get top TF-IDF => auto select keywords"
   ]
  },
  {
   "cell_type": "code",
   "execution_count": 67,
   "metadata": {},
   "outputs": [],
   "source": [
    "def get_top_tfidf(tfidf, stem_map, n=30):\n",
    "    top_tfidf = sorted(tfidf.idfs.items(), key=lambda i: i[1], reverse=True)[:n]\n",
    "    top_stems = map(lambda i: dictionary[i[0]], top_tfidf)\n",
    "    top_words = map(lambda w: stem_map[w], filter(lambda s: s in stem_map, top_stems))\n",
    "    return list(top_words)"
   ]
  },
  {
   "cell_type": "code",
   "execution_count": 68,
   "metadata": {},
   "outputs": [
    {
     "name": "stdout",
     "output_type": "stream",
     "text": [
      "Topic democratie-institutions-referendum-dinitiative-citoyenne, 4063 documents\n",
      "\tVoc size (stems): 3316/12016\n",
      "Topic economie-finances-travail-compte-public, 6410 documents\n",
      "\tVoc size (stems): 4007/14718\n",
      "Topic education-jeunesse-enseignement-superieur-recherche-et-innovation, 1581 documents\n",
      "\tVoc size (stems): 1827/7219\n",
      "Topic europe-affaires-etrangeres-outre-mer, 963 documents\n",
      "\tVoc size (stems): 1344/5605\n",
      "Topic justice-police-armee, 1400 documents\n",
      "\tVoc size (stems): 1768/6997\n",
      "Topic sante-solidarite-handicap, 1900 documents\n",
      "\tVoc size (stems): 2084/8058\n",
      "Topic sport-culture, 593 documents\n",
      "\tVoc size (stems): 794/4094\n",
      "Topic expression-libre, 3769 documents\n",
      "\tVoc size (stems): 3996/14643\n",
      "Topic transition-ecologique-solidaire-agriculture-alimentation, 2600 documents\n",
      "\tVoc size (stems): 2772/10107\n"
     ]
    }
   ],
   "source": [
    "top30_words = {}\n",
    "for topic in topics:\n",
    "    df_sel = df[df.master_tag == topic]\n",
    "    print(\"Topic %s, %d documents\" % (topic, len(df_sel)))\n",
    "    tfidf, dico, stem_map = get_tfidf_model(df_sel['contribution_versions_bodyText']) #!! Not using contribution_versions_title\n",
    "    print(\"\\tVoc size (stems): %d/%d\" % (len(dico), len(stem_map)))\n",
    "    top30_words[topic] = get_top_tfidf(tfidf, stem_map, 30)"
   ]
  },
  {
   "cell_type": "markdown",
   "metadata": {},
   "source": [
    "## Manual curation to avoid adjectives and wrong spelling or syntax"
   ]
  },
  {
   "cell_type": "code",
   "execution_count": 95,
   "metadata": {},
   "outputs": [],
   "source": [
    "selected_keywords = {}"
   ]
  },
  {
   "cell_type": "code",
   "execution_count": 116,
   "metadata": {},
   "outputs": [
    {
     "name": "stdout",
     "output_type": "stream",
     "text": [
      "Topic 0: democratie-institutions-referendum-dinitiative-citoyenne\n"
     ]
    },
    {
     "data": {
      "text/plain": [
       "['101',\n",
       " 'aléatoire',\n",
       " 'catimini',\n",
       " 'dissimulées',\n",
       " 'faim',\n",
       " 'mourir',\n",
       " 'sdf',\n",
       " 'affranchis',\n",
       " 'estiment',\n",
       " 'socle',\n",
       " '120',\n",
       " 'google',\n",
       " 'gré',\n",
       " 'précaire',\n",
       " 'sus',\n",
       " 'tpe',\n",
       " 'fierté',\n",
       " 'claude',\n",
       " 'ladite',\n",
       " 'micro',\n",
       " 'organisationnels',\n",
       " 'pécuniaire',\n",
       " 'découverte',\n",
       " 'connus',\n",
       " 'opaque',\n",
       " 'gris',\n",
       " 'pole',\n",
       " 'réferendum',\n",
       " 'racket',\n",
       " 'pourvus']"
      ]
     },
     "execution_count": 116,
     "metadata": {},
     "output_type": "execute_result"
    }
   ],
   "source": [
    "print(\"Topic 0:\", topics[0])\n",
    "top30_words[topics[0]]"
   ]
  },
  {
   "cell_type": "code",
   "execution_count": 183,
   "metadata": {},
   "outputs": [],
   "source": [
    "selected_keywords[topics[0]] = ['faim', 'mourir', 'sdf', 'Google', 'précaire', 'entreprise', 'réferendum', 'racket']"
   ]
  },
  {
   "cell_type": "code",
   "execution_count": 184,
   "metadata": {},
   "outputs": [
    {
     "name": "stdout",
     "output_type": "stream",
     "text": [
      "Topic 1: economie-finances-travail-compte-public\n"
     ]
    },
    {
     "data": {
      "text/plain": [
       "['associé',\n",
       " 'fin',\n",
       " 'voiture',\n",
       " 'cadre',\n",
       " 'public',\n",
       " 'double',\n",
       " 'discipline',\n",
       " 'développe',\n",
       " 'mené',\n",
       " 'permet',\n",
       " 'précaire',\n",
       " 'simple',\n",
       " 'équivalent',\n",
       " 'parallèle',\n",
       " 'parle',\n",
       " 'chois',\n",
       " 'alimentaire',\n",
       " 'apprécié',\n",
       " 'blanc',\n",
       " 'bonus',\n",
       " 'chiffre',\n",
       " 'déterminé',\n",
       " 'tôt',\n",
       " 'convient',\n",
       " 'découvert',\n",
       " 'haut',\n",
       " 'personnage',\n",
       " 'préférence',\n",
       " 'retourne',\n",
       " 'patrimoine']"
      ]
     },
     "execution_count": 184,
     "metadata": {},
     "output_type": "execute_result"
    }
   ],
   "source": [
    "print(\"Topic 1:\", topics[1])\n",
    "top30_words[topics[1]]"
   ]
  },
  {
   "cell_type": "code",
   "execution_count": 185,
   "metadata": {},
   "outputs": [],
   "source": [
    "selected_keywords[topics[1]] = ['discipline', 'public', 'développement', 'précaire', 'choix', 'découvert', 'patrimoine', 'préférence']"
   ]
  },
  {
   "cell_type": "code",
   "execution_count": 186,
   "metadata": {},
   "outputs": [
    {
     "name": "stdout",
     "output_type": "stream",
     "text": [
      "Topic 2: education-jeunesse-enseignement-superieur-recherche-et-innovation\n"
     ]
    },
    {
     "data": {
      "text/plain": [
       "['constitutionnel',\n",
       " 'dessous',\n",
       " 'etat',\n",
       " 'enfant',\n",
       " 'fin',\n",
       " 'cependant',\n",
       " 'afin',\n",
       " 'défendre',\n",
       " 'mélangé',\n",
       " 'nouveau',\n",
       " 'effectif',\n",
       " 'entendu',\n",
       " 'jamais',\n",
       " 'justice',\n",
       " 'moindre',\n",
       " 'passe',\n",
       " 'pratique',\n",
       " 'renforce',\n",
       " 'souhaite',\n",
       " 'souvent',\n",
       " 'vocation',\n",
       " 'devoir',\n",
       " 'toujours',\n",
       " '600',\n",
       " 'privé',\n",
       " 'choisi']"
      ]
     },
     "execution_count": 186,
     "metadata": {},
     "output_type": "execute_result"
    }
   ],
   "source": [
    "print(\"Topic 2:\", topics[2])\n",
    "top30_words[topics[2]]"
   ]
  },
  {
   "cell_type": "code",
   "execution_count": 187,
   "metadata": {},
   "outputs": [],
   "source": [
    "selected_keywords[topics[2]] = ['constitutionnel', 'etat', 'enfant', 'effectif', 'justice', 'pratique', 'vocation', 'privé']"
   ]
  },
  {
   "cell_type": "code",
   "execution_count": 188,
   "metadata": {},
   "outputs": [
    {
     "name": "stdout",
     "output_type": "stream",
     "text": [
      "Topic 3: europe-affaires-etrangeres-outre-mer\n"
     ]
    },
    {
     "data": {
      "text/plain": [
       "['doit',\n",
       " 'peut',\n",
       " 'avantage',\n",
       " 'différent',\n",
       " 'territoire',\n",
       " 'vérités',\n",
       " 'écart',\n",
       " 'écrit',\n",
       " 'révoqué',\n",
       " 'car',\n",
       " 'économie',\n",
       " 'construction',\n",
       " 'dépend',\n",
       " 'impose',\n",
       " 'mal',\n",
       " 'constate',\n",
       " 'défendre',\n",
       " 'entreprise',\n",
       " 'manque',\n",
       " 'adopté',\n",
       " 'alourdira',\n",
       " 'ancien',\n",
       " 'budget',\n",
       " 'citoyenneté',\n",
       " 'concentrant',\n",
       " 'concernent']"
      ]
     },
     "execution_count": 188,
     "metadata": {},
     "output_type": "execute_result"
    }
   ],
   "source": [
    "print(\"Topic 3:\", topics[3])\n",
    "top30_words[topics[3]]"
   ]
  },
  {
   "cell_type": "code",
   "execution_count": 189,
   "metadata": {},
   "outputs": [],
   "source": [
    "selected_keywords[topics[3]] = ['avantage', 'économie', 'construction', 'entreprise', 'budget', 'citoyenneté', 'budget', 'révoquer']"
   ]
  },
  {
   "cell_type": "code",
   "execution_count": 190,
   "metadata": {},
   "outputs": [
    {
     "name": "stdout",
     "output_type": "stream",
     "text": [
      "Topic 4: justice-police-armee\n"
     ]
    },
    {
     "data": {
      "text/plain": [
       "['ainsi',\n",
       " 'résultat',\n",
       " 'corps',\n",
       " 'motivé',\n",
       " 'nombre',\n",
       " 'signature',\n",
       " 'total',\n",
       " 'indigne',\n",
       " 'mange',\n",
       " 'président',\n",
       " 'dialogue',\n",
       " 'dispose',\n",
       " 'dépend',\n",
       " 'eau',\n",
       " 'outre',\n",
       " 'amène',\n",
       " 'chômeurs',\n",
       " 'concernent',\n",
       " 'criminel',\n",
       " 'déontologie',\n",
       " 'développe',\n",
       " 'effectif',\n",
       " 'environ',\n",
       " 'fait',\n",
       " 'global',\n",
       " 'intermédiaires',\n",
       " 'magistrature',\n",
       " 'malgré',\n",
       " 'modalité',\n",
       " 'pérennes']"
      ]
     },
     "execution_count": 190,
     "metadata": {},
     "output_type": "execute_result"
    }
   ],
   "source": [
    "print(\"Topic 4:\", topics[4])\n",
    "top30_words[topics[4]]"
   ]
  },
  {
   "cell_type": "code",
   "execution_count": 191,
   "metadata": {},
   "outputs": [],
   "source": [
    "selected_keywords[topics[4]] = ['résultat', 'corps', 'nombre', 'président', 'chômeurs', 'criminel', 'déontologie', 'intermédiaires']"
   ]
  },
  {
   "cell_type": "code",
   "execution_count": 192,
   "metadata": {},
   "outputs": [
    {
     "name": "stdout",
     "output_type": "stream",
     "text": [
      "Topic 5: sante-solidarite-handicap\n"
     ]
    },
    {
     "data": {
      "text/plain": [
       "['commande',\n",
       " 'avis',\n",
       " 'divers',\n",
       " 'mettre',\n",
       " 'partage',\n",
       " 'pluralité',\n",
       " 'réel',\n",
       " 'non',\n",
       " 'vie',\n",
       " 'article',\n",
       " 'car',\n",
       " 'économie',\n",
       " 'mauvais',\n",
       " 'baissé',\n",
       " 'outre',\n",
       " 'alors',\n",
       " 'aujourd',\n",
       " 'cahier',\n",
       " 'création',\n",
       " 'dit',\n",
       " 'domaine',\n",
       " 'favorise',\n",
       " 'groups',\n",
       " 'innovants',\n",
       " 'observatoire',\n",
       " 'prestation',\n",
       " 'revoir',\n",
       " 'surveiller',\n",
       " 'tard']"
      ]
     },
     "execution_count": 192,
     "metadata": {},
     "output_type": "execute_result"
    }
   ],
   "source": [
    "print(\"Topic 5:\", topics[5])\n",
    "top30_words[topics[5]]"
   ]
  },
  {
   "cell_type": "code",
   "execution_count": 193,
   "metadata": {},
   "outputs": [],
   "source": [
    "selected_keywords[topics[5]] = ['avis', 'pluralité', 'réel', 'économie', 'création', 'domaine', 'observatoire', 'prestation']"
   ]
  },
  {
   "cell_type": "code",
   "execution_count": 194,
   "metadata": {},
   "outputs": [
    {
     "name": "stdout",
     "output_type": "stream",
     "text": [
      "Topic 6: sport-culture\n"
     ]
    },
    {
     "data": {
      "text/plain": [
       "['avant',\n",
       " 'personne',\n",
       " 'professionnel',\n",
       " 'avis',\n",
       " 'cela',\n",
       " 'charge',\n",
       " 'contrôle',\n",
       " 'corps',\n",
       " 'dessous',\n",
       " 'difficile',\n",
       " 'exprimé',\n",
       " 'idée',\n",
       " 'moyen',\n",
       " 'nombreux',\n",
       " 'permanence',\n",
       " 'populisme',\n",
       " 'présence',\n",
       " 'quel',\n",
       " 'réduit',\n",
       " 'vision',\n",
       " 'mandats',\n",
       " 'mis',\n",
       " 'réflexion',\n",
       " 'cet',\n",
       " 'suppression',\n",
       " 'charte']"
      ]
     },
     "execution_count": 194,
     "metadata": {},
     "output_type": "execute_result"
    }
   ],
   "source": [
    "print(\"Topic 6:\", topics[6])\n",
    "top30_words[topics[6]]"
   ]
  },
  {
   "cell_type": "code",
   "execution_count": 211,
   "metadata": {},
   "outputs": [],
   "source": [
    "selected_keywords[topics[6]] = ['professionnel', 'salaires', 'contrôle', 'chasse', 'populisme', 'télévision', 'mandats', 'charte']"
   ]
  },
  {
   "cell_type": "code",
   "execution_count": 212,
   "metadata": {},
   "outputs": [
    {
     "name": "stdout",
     "output_type": "stream",
     "text": [
      "Topic 7: expression-libre\n"
     ]
    },
    {
     "data": {
      "text/plain": [
       "['organisé',\n",
       " 'plus',\n",
       " 'propos',\n",
       " 'ressort',\n",
       " 'réalité',\n",
       " 'siège',\n",
       " 'tour',\n",
       " 'élément',\n",
       " 'adulte',\n",
       " 'réforme',\n",
       " 'tenté',\n",
       " 'peux',\n",
       " 'salarié',\n",
       " '2017',\n",
       " 'minime',\n",
       " 'minimal',\n",
       " 'sérieux',\n",
       " 'évolue',\n",
       " 'évoqué',\n",
       " 'probable',\n",
       " 'demain',\n",
       " 'fondamental',\n",
       " 'liberté',\n",
       " 'manipulé',\n",
       " 'million',\n",
       " 'mêmes',\n",
       " 'scientifique',\n",
       " 'sénat',\n",
       " 'garanti',\n",
       " 'carte']"
      ]
     },
     "execution_count": 212,
     "metadata": {},
     "output_type": "execute_result"
    }
   ],
   "source": [
    "print(\"Topic 7:\", topics[7])\n",
    "top30_words[topics[7]]"
   ]
  },
  {
   "cell_type": "code",
   "execution_count": 213,
   "metadata": {},
   "outputs": [],
   "source": [
    "selected_keywords[topics[7]] = ['réalité', 'siège', 'tour', 'adulte', 'réforme', '2017', 'fondamental', 'liberté']"
   ]
  },
  {
   "cell_type": "code",
   "execution_count": 214,
   "metadata": {},
   "outputs": [
    {
     "name": "stdout",
     "output_type": "stream",
     "text": [
      "Topic 8: transition-ecologique-solidaire-agriculture-alimentation\n"
     ]
    },
    {
     "data": {
      "text/plain": [
       "['nom',\n",
       " 'professionnel',\n",
       " 'société',\n",
       " 'tous',\n",
       " 'consulté',\n",
       " 'deux',\n",
       " 'journal',\n",
       " 'leurs',\n",
       " 'réalité',\n",
       " 'total',\n",
       " 'très',\n",
       " 'élément',\n",
       " 'dur',\n",
       " 'agissent',\n",
       " 'argent',\n",
       " 'chaque',\n",
       " 'digne',\n",
       " 'indigne',\n",
       " 'monétaire',\n",
       " 'après',\n",
       " 'universel',\n",
       " 'utile',\n",
       " 'lieu',\n",
       " 'étonne',\n",
       " 'apparente',\n",
       " 'attribué',\n",
       " 'automatique',\n",
       " 'citoyenneté',\n",
       " 'civil',\n",
       " 'deviennent']"
      ]
     },
     "execution_count": 214,
     "metadata": {},
     "output_type": "execute_result"
    }
   ],
   "source": [
    "print(\"Topic 8:\", topics[8])\n",
    "top30_words[topics[8]]"
   ]
  },
  {
   "cell_type": "code",
   "execution_count": 215,
   "metadata": {},
   "outputs": [],
   "source": [
    "selected_keywords[topics[8]] = ['professionnel', 'société', 'consultation', 'journal', 'réalité', 'élément', 'argent', 'universel']"
   ]
  },
  {
   "cell_type": "code",
   "execution_count": 225,
   "metadata": {},
   "outputs": [
    {
     "name": "stdout",
     "output_type": "stream",
     "text": [
      "democratie-institutions-referendum-dinitiative-citoyenne [{\"id\": 0, \"name\": \"faim\"}, {\"id\": 1, \"name\": \"mourir\"}, {\"id\": 2, \"name\": \"sdf\"}, {\"id\": 3, \"name\": \"Google\"}, {\"id\": 4, \"name\": \"pr\\u00e9caire\"}, {\"id\": 5, \"name\": \"entreprise\"}, {\"id\": 6, \"name\": \"r\\u00e9ferendum\"}, {\"id\": 7, \"name\": \"racket\"}]\n",
      "economie-finances-travail-compte-public [{\"id\": 0, \"name\": \"discipline\"}, {\"id\": 1, \"name\": \"public\"}, {\"id\": 2, \"name\": \"d\\u00e9veloppement\"}, {\"id\": 3, \"name\": \"pr\\u00e9caire\"}, {\"id\": 4, \"name\": \"choix\"}, {\"id\": 5, \"name\": \"d\\u00e9couvert\"}, {\"id\": 6, \"name\": \"patrimoine\"}, {\"id\": 7, \"name\": \"pr\\u00e9f\\u00e9rence\"}]\n",
      "education-jeunesse-enseignement-superieur-recherche-et-innovation [{\"id\": 0, \"name\": \"constitutionnel\"}, {\"id\": 1, \"name\": \"etat\"}, {\"id\": 2, \"name\": \"enfant\"}, {\"id\": 3, \"name\": \"effectif\"}, {\"id\": 4, \"name\": \"justice\"}, {\"id\": 5, \"name\": \"pratique\"}, {\"id\": 6, \"name\": \"vocation\"}, {\"id\": 7, \"name\": \"priv\\u00e9\"}]\n",
      "europe-affaires-etrangeres-outre-mer [{\"id\": 0, \"name\": \"avantage\"}, {\"id\": 1, \"name\": \"\\u00e9conomie\"}, {\"id\": 2, \"name\": \"construction\"}, {\"id\": 3, \"name\": \"entreprise\"}, {\"id\": 4, \"name\": \"budget\"}, {\"id\": 5, \"name\": \"citoyennet\\u00e9\"}, {\"id\": 6, \"name\": \"budget\"}, {\"id\": 7, \"name\": \"r\\u00e9voquer\"}]\n",
      "justice-police-armee [{\"id\": 0, \"name\": \"r\\u00e9sultat\"}, {\"id\": 1, \"name\": \"corps\"}, {\"id\": 2, \"name\": \"nombre\"}, {\"id\": 3, \"name\": \"pr\\u00e9sident\"}, {\"id\": 4, \"name\": \"ch\\u00f4meurs\"}, {\"id\": 5, \"name\": \"criminel\"}, {\"id\": 6, \"name\": \"d\\u00e9ontologie\"}, {\"id\": 7, \"name\": \"interm\\u00e9diaires\"}]\n",
      "sante-solidarite-handicap [{\"id\": 0, \"name\": \"avis\"}, {\"id\": 1, \"name\": \"pluralit\\u00e9\"}, {\"id\": 2, \"name\": \"r\\u00e9el\"}, {\"id\": 3, \"name\": \"\\u00e9conomie\"}, {\"id\": 4, \"name\": \"cr\\u00e9ation\"}, {\"id\": 5, \"name\": \"domaine\"}, {\"id\": 6, \"name\": \"observatoire\"}, {\"id\": 7, \"name\": \"prestation\"}]\n",
      "sport-culture [{\"id\": 0, \"name\": \"professionnel\"}, {\"id\": 1, \"name\": \"salaires\"}, {\"id\": 2, \"name\": \"contr\\u00f4le\"}, {\"id\": 3, \"name\": \"chasse\"}, {\"id\": 4, \"name\": \"populisme\"}, {\"id\": 5, \"name\": \"t\\u00e9l\\u00e9vision\"}, {\"id\": 6, \"name\": \"mandats\"}, {\"id\": 7, \"name\": \"charte\"}]\n",
      "expression-libre [{\"id\": 0, \"name\": \"r\\u00e9alit\\u00e9\"}, {\"id\": 1, \"name\": \"si\\u00e8ge\"}, {\"id\": 2, \"name\": \"tour\"}, {\"id\": 3, \"name\": \"adulte\"}, {\"id\": 4, \"name\": \"r\\u00e9forme\"}, {\"id\": 5, \"name\": \"2017\"}, {\"id\": 6, \"name\": \"fondamental\"}, {\"id\": 7, \"name\": \"libert\\u00e9\"}]\n",
      "transition-ecologique-solidaire-agriculture-alimentation [{\"id\": 0, \"name\": \"professionnel\"}, {\"id\": 1, \"name\": \"soci\\u00e9t\\u00e9\"}, {\"id\": 2, \"name\": \"consultation\"}, {\"id\": 3, \"name\": \"journal\"}, {\"id\": 4, \"name\": \"r\\u00e9alit\\u00e9\"}, {\"id\": 5, \"name\": \"\\u00e9l\\u00e9ment\"}, {\"id\": 6, \"name\": \"argent\"}, {\"id\": 7, \"name\": \"universel\"}]\n"
     ]
    }
   ],
   "source": [
    "for topic in topics:\n",
    "    print(topic, json.dumps([{\"id\": j, \"name\": keyword} for (j, keyword) in enumerate(selected_keywords[topic])]))"
   ]
  },
  {
   "cell_type": "markdown",
   "metadata": {},
   "source": [
    "# Compute related documents"
   ]
  },
  {
   "cell_type": "markdown",
   "metadata": {},
   "source": [
    "## Step 1 : train fastText model on vocabulary"
   ]
  },
  {
   "cell_type": "code",
   "execution_count": 217,
   "metadata": {},
   "outputs": [],
   "source": [
    "def clean_text(text):\n",
    "    return re.sub(r'[;,\\.!\\?\\(\\)]', ' ', text).replace('\\n', ' ').replace('[\\s+]', ' ')"
   ]
  },
  {
   "cell_type": "code",
   "execution_count": 218,
   "metadata": {},
   "outputs": [],
   "source": [
    "with open('cleaned_contributions.txt', 'w') as f:\n",
    "    cleaned_corpus = df.contribution_versions_bodyText.apply(clean_text)\n",
    "    f.writelines(rec + '\\n' for rec in cleaned_corpus)"
   ]
  },
  {
   "cell_type": "code",
   "execution_count": 219,
   "metadata": {},
   "outputs": [],
   "source": [
    "corpus_model = fasttext.train_unsupervised('cleaned_contributions.txt', 'skipgram')"
   ]
  },
  {
   "cell_type": "markdown",
   "metadata": {},
   "source": [
    "## Step 3 : compute embedding of each document, distance to each (topic $\\times$ keyword) and select top 20 for each keyword"
   ]
  },
  {
   "cell_type": "code",
   "execution_count": 220,
   "metadata": {},
   "outputs": [],
   "source": [
    "df['document_embeddings'] = [corpus_model.get_sentence_vector(doc) for doc in cleaned_corpus]"
   ]
  },
  {
   "cell_type": "code",
   "execution_count": 221,
   "metadata": {},
   "outputs": [],
   "source": [
    "def cosine_similarity(a, b):\n",
    "    norm_a = np.linalg.norm(a)\n",
    "    norm_b = np.linalg.norm(b)\n",
    "    return np.dot(a, b) / (norm_a * norm_b)\n",
    "\n",
    "def get_strongest(weights, topn):\n",
    "    \"\"\" Get the top n strongest \"\"\"\n",
    "    return np.argpartition(weights, -topn, axis=0)[-topn:]"
   ]
  },
  {
   "cell_type": "code",
   "execution_count": 222,
   "metadata": {},
   "outputs": [],
   "source": [
    "for t, topic in enumerate(topics):\n",
    "    df_sel = df[df.master_tag == topic]\n",
    "    for k, keyword in enumerate(selected_keywords[topic]):\n",
    "        keyword_embedding = corpus_model.get_word_vector(keyword)\n",
    "        similarities = df_sel['document_embeddings'].apply(lambda de: cosine_similarity(de, keyword_embedding))\n",
    "        scores = similarities * np.log(df_sel.contributions_votesCountOk + 1) # Add weight for document votes\n",
    "        strongest = get_strongest(scores, 20)\n",
    "        df_sel.iloc[strongest][saved_cols].to_json('topic_%d_keyword_%d_main_contributions.json' % (t, k), orient='records')\n",
    "        "
   ]
  },
  {
   "cell_type": "code",
   "execution_count": null,
   "metadata": {},
   "outputs": [],
   "source": []
  }
 ],
 "metadata": {
  "kernelspec": {
   "display_name": "Python 3",
   "language": "python",
   "name": "python3"
  },
  "language_info": {
   "codemirror_mode": {
    "name": "ipython",
    "version": 3
   },
   "file_extension": ".py",
   "mimetype": "text/x-python",
   "name": "python",
   "nbconvert_exporter": "python",
   "pygments_lexer": "ipython3",
   "version": "3.7.6"
  }
 },
 "nbformat": 4,
 "nbformat_minor": 4
}
